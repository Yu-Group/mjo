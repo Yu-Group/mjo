{
 "cells": [
  {
   "cell_type": "code",
   "execution_count": 1,
   "id": "1167df37-472a-4316-aabb-91dd9132cf85",
   "metadata": {},
   "outputs": [],
   "source": [
    "%load_ext autoreload\n",
    "%autoreload 2\n",
    "\n",
    "import glob\n",
    "from mjonet.data import era5\n",
    "\n",
    "save_dir = '/global/cscratch1/sd/jpduncan/mjo/data/debug'"
   ]
  },
  {
   "cell_type": "code",
   "execution_count": 39,
   "id": "173c8497-2c92-4c8b-b620-388db2bf2828",
   "metadata": {},
   "outputs": [
    {
     "name": "stdout",
     "output_type": "stream",
     "text": [
      "CPU times: user 36.2 s, sys: 351 ms, total: 36.6 s\n",
      "Wall time: 54.8 s\n"
     ]
    }
   ],
   "source": [
    "%%time\n",
    "\n",
    "dset = era5.hdf5_to_npz('/global/cscratch1/sd/jpduncan/mjo/data/debug', 'mtnlwrf', 'r', year_or_range=1988, verbose=True)"
   ]
  },
  {
   "cell_type": "code",
   "execution_count": 46,
   "id": "700ff727-32e9-4f39-aa65-d6d227ff92ac",
   "metadata": {},
   "outputs": [
    {
     "name": "stdout",
     "output_type": "stream",
     "text": [
      "<xarray.Dataset>\n",
      "Dimensions:    (time: 8791, latitude: 721, longitude: 1440, level: 37)\n",
      "Coordinates:\n",
      "  * time       (time) datetime64[ns] 1988-01-01 ... 1989-01-01T06:00:00\n",
      "  * latitude   (latitude) float64 90.0 89.75 89.5 89.25 ... -89.5 -89.75 -90.0\n",
      "  * longitude  (longitude) float64 0.0 0.25 0.5 0.75 ... 359.0 359.2 359.5 359.8\n",
      "  * level      (level) float64 1.0 2.0 3.0 5.0 7.0 ... 925.0 950.0 975.0 1e+03\n",
      "Data variables:\n",
      "    MTNLWRF    (time, latitude, longitude) float32 dask.array<chunksize=(8, 721, 1440), meta=np.ndarray>\n",
      "    R          (time, level, latitude, longitude) float32 dask.array<chunksize=(24, 37, 721, 1440), meta=np.ndarray>\n",
      "    utc_date   (time) float64 dask.array<chunksize=(24,), meta=np.ndarray>\n"
     ]
    }
   ],
   "source": [
    "print(dset)"
   ]
  }
 ],
 "metadata": {
  "kernelspec": {
   "display_name": "Python [conda:mjonet]",
   "language": "python",
   "name": "mjonet"
  },
  "language_info": {
   "codemirror_mode": {
    "name": "ipython",
    "version": 3
   },
   "file_extension": ".py",
   "mimetype": "text/x-python",
   "name": "python",
   "nbconvert_exporter": "python",
   "pygments_lexer": "ipython3",
   "version": "3.9.10"
  }
 },
 "nbformat": 4,
 "nbformat_minor": 5
}
