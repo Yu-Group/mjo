{
 "cells": [
  {
   "cell_type": "markdown",
   "id": "311d441e-98b4-497b-b78d-9a0897023544",
   "metadata": {},
   "source": [
    "## Introduction to the CMIP6 ERA5 data and the netCDF file format\n",
    "\n",
    "The reanalysis data is stored in a common geo-spatial/array data format: [netCDF](https://www.unidata.ucar.edu/software/netcdf/). We'll use the Python package [netCDF4](https://unidata.github.io/netcdf4-python/#creatingopeningclosing-a-netcdf-file) to read and manipulate this format."
   ]
  },
  {
   "cell_type": "code",
   "execution_count": 1,
   "id": "29baba55-aacb-47dd-b9ed-de8fca82e784",
   "metadata": {},
   "outputs": [],
   "source": [
    "import netCDF4 as nc"
   ]
  },
  {
   "cell_type": "markdown",
   "id": "c5ec50f4-3775-4ead-b81e-9c8d6b97a2be",
   "metadata": {},
   "source": [
    "We'll read in one of the ERA5 files for $\\Psi$, the horizontal streamfunction (flux of wind velocity field), which is calculated from pressure level reanalysis data."
   ]
  },
  {
   "cell_type": "code",
   "execution_count": 2,
   "id": "29ac071c-ab09-4df8-8b05-15b8b521945b",
   "metadata": {},
   "outputs": [],
   "source": [
    "psifname = '/global/cfs/projectdirs/m3522/cmip6/ERA5/e5.generated_psi/2018/psi_20180101.nc'  \n",
    "psi2018 = nc.Dataset(psifname, 'r', format='NETCDF4')"
   ]
  },
  {
   "cell_type": "markdown",
   "id": "20967af8-d5fe-4e78-b3b5-468873f36d82",
   "metadata": {},
   "source": [
    "Let's see what a [`netCDF4.Dataset`](https://unidata.github.io/netcdf4-python/#Dataset.__init__) object looks like."
   ]
  },
  {
   "cell_type": "code",
   "execution_count": 3,
   "id": "802f5a4f-441b-43a5-a1f3-ea69af3bfaf7",
   "metadata": {},
   "outputs": [
    {
     "name": "stdout",
     "output_type": "stream",
     "text": [
      "<class 'netCDF4._netCDF4.Dataset'>\n",
      "root group (NETCDF4 data model, file format HDF5):\n",
      "    dimensions(sizes): latitude(721), longitude(1440), time(24), level(32)\n",
      "    variables(dimensions): float64 latitude(latitude), float64 longitude(longitude), int32 time(time), float64 level(level), float32 streamfunction(time, level, latitude, longitude)\n",
      "    groups:  \n",
      "\n"
     ]
    }
   ],
   "source": [
    "print(psi2018, '\\n')"
   ]
  },
  {
   "cell_type": "markdown",
   "id": "88f6f960-6a2b-4d25-b2a5-8b86172f58a4",
   "metadata": {},
   "source": [
    "The `.nc` file we read in is in [HDF5](https://docs.nersc.gov/development/libraries/hdf5/) format, so we could have used another package like [h5py](https://www.h5py.org/) to read it in. \n",
    "\n",
    "The dataset contains members `dimensions` and `variables`. It can also hold optional metadata in `__dict__`, but in this case it's empty."
   ]
  },
  {
   "cell_type": "code",
   "execution_count": 4,
   "id": "2c1ef139-1539-4338-874f-eb4b90cc3f46",
   "metadata": {},
   "outputs": [
    {
     "name": "stdout",
     "output_type": "stream",
     "text": [
      "<class 'dict'> with len: 0\n",
      "<class 'dict'> with len: 4\n",
      "<class 'dict'> with len: 5\n"
     ]
    }
   ],
   "source": [
    "print(f'{type(psi2018.__dict__)} with len: {len(psi2018.__dict__)}') # metadata dict\n",
    "print(f'{type(psi2018.dimensions)} with len: {len(psi2018.dimensions)}') # dict\n",
    "print(f'{type(psi2018.variables)} with len: {len(psi2018.variables)}') # dict"
   ]
  },
  {
   "cell_type": "markdown",
   "id": "053bd1b6-436b-4d0d-94cb-98373ea11b8c",
   "metadata": {},
   "source": [
    "### Dimensions of the dataset\n",
    "\n",
    "This file contains a 24-hour sequence of PSI measurements from New Year's day, 2018.\n",
    "\n",
    "The spatiotemporal grid has the following dimensions: **24 (time) x 32 (level)  x 721 (latitude) x 1440 (longitude) **."
   ]
  },
  {
   "cell_type": "code",
   "execution_count": 5,
   "id": "9503e068-7552-4611-8fb7-21e007727b1b",
   "metadata": {},
   "outputs": [
    {
     "name": "stdout",
     "output_type": "stream",
     "text": [
      "dict_keys(['latitude', 'longitude', 'time', 'level']) \n",
      "\n",
      "<class 'netCDF4._netCDF4.Dimension'>: name = 'latitude', size = 721 \n",
      "\n",
      "<class 'netCDF4._netCDF4.Dimension'>: name = 'longitude', size = 1440 \n",
      "\n",
      "<class 'netCDF4._netCDF4.Dimension'>: name = 'time', size = 24 \n",
      "\n",
      "<class 'netCDF4._netCDF4.Dimension'>: name = 'level', size = 32 \n",
      "\n"
     ]
    }
   ],
   "source": [
    "print(psi2018.dimensions.keys(), '\\n')\n",
    "for val in psi2018.dimensions.values():\n",
    "    print(val, '\\n')"
   ]
  },
  {
   "cell_type": "markdown",
   "id": "16fb7f2d-b935-4da0-931c-22471bc1ac8b",
   "metadata": {},
   "source": [
    "### Variables in the dataset\n",
    "\n",
    "The `variables` member is where the actual data can be found. Here we have the same keys as `dimensions`, plus a `'streamfunction'`."
   ]
  },
  {
   "cell_type": "code",
   "execution_count": 6,
   "id": "2776637e-b99e-4f3c-a55e-48ad00d115c1",
   "metadata": {},
   "outputs": [
    {
     "name": "stdout",
     "output_type": "stream",
     "text": [
      "dict_keys(['latitude', 'longitude', 'time', 'level', 'streamfunction']) \n",
      "\n"
     ]
    }
   ],
   "source": [
    "print(psi2018.variables.keys(), '\\n')"
   ]
  },
  {
   "cell_type": "markdown",
   "id": "874fe87d-8fb1-4a80-a1d4-42f7f64375b9",
   "metadata": {},
   "source": [
    "The values in the `variables` dict are [`netCDF4.Variable`](https://unidata.github.io/netcdf4-python/#Variable) objects. "
   ]
  },
  {
   "cell_type": "markdown",
   "id": "556216c0-1a75-4070-b990-039ffbcc5142",
   "metadata": {},
   "source": [
    "#### **Latitude and longitude**\n",
    "\n",
    "Latitude and longitude do have metadata which can be accessed via `__dict__`, including a default missing data value (`nan`), long and short names, units, and --in the case of latitude -- a \"qualifier\"."
   ]
  },
  {
   "cell_type": "code",
   "execution_count": 7,
   "id": "2b777baa-0185-4eb6-95e5-397d4305d022",
   "metadata": {},
   "outputs": [
    {
     "name": "stdout",
     "output_type": "stream",
     "text": [
      "<class 'netCDF4._netCDF4.Variable'>\n",
      "float64 latitude(latitude)\n",
      "    _FillValue: nan\n",
      "    long_name: latitude\n",
      "    short_name: lat\n",
      "    units: degrees_north\n",
      "    qualifier: Gaussian\n",
      "unlimited dimensions: \n",
      "current shape = (721,)\n",
      "filling on \n",
      "\n",
      "['_FillValue', 'long_name', 'short_name', 'units', 'qualifier'] \n",
      "\n",
      "{'_FillValue': nan, 'long_name': 'longitude', 'short_name': 'lon', 'units': 'degrees_east'} \n",
      "\n"
     ]
    }
   ],
   "source": [
    "print(psi2018.variables['latitude'], '\\n')\n",
    "print(psi2018.variables['latitude'].ncattrs(), '\\n')\n",
    "print(psi2018.variables['longitude'].__dict__, '\\n')"
   ]
  },
  {
   "cell_type": "markdown",
   "id": "55136ebf-d1e2-4f73-97f7-f4efd707a3f8",
   "metadata": {},
   "source": [
    "When a `Variable` holds non-scalar data, you can use slicing to access it. \n",
    "\n",
    "Latitude is in units of degrees north from -90 (south pole) to 90 (north pole) and is spaced at 0.25 degrees."
   ]
  },
  {
   "cell_type": "code",
   "execution_count": 8,
   "id": "66169669-065b-4169-8fc9-1e22ad6ddebc",
   "metadata": {},
   "outputs": [
    {
     "name": "stdout",
     "output_type": "stream",
     "text": [
      "min. latitude: -90.0\n",
      "\n",
      "max. latitude: 90.0\n",
      "\n",
      "spacing of latitude values: 0.25\n",
      "\n"
     ]
    }
   ],
   "source": [
    "print(f\"min. latitude: { psi2018.variables['latitude'][:].min() }\\n\")\n",
    "print(f\"max. latitude: {psi2018.variables['latitude'][:].max()}\\n\")\n",
    "print(f\"spacing of latitude values: {psi2018.variables['latitude'][0] - psi2018.variables['latitude'][1]}\\n\")"
   ]
  },
  {
   "cell_type": "markdown",
   "id": "a78ee857-7426-488b-8931-5bc1f9af3453",
   "metadata": {},
   "source": [
    "Note that the latitude data starts at 90 and ends at -90."
   ]
  },
  {
   "cell_type": "code",
   "execution_count": 9,
   "id": "34c86c43-b599-408e-9c2e-1dea4ff1e7c2",
   "metadata": {},
   "outputs": [
    {
     "name": "stdout",
     "output_type": "stream",
     "text": [
      "[90.   89.75 89.5  89.25 89.  ] \n",
      "\n",
      "[-89.   -89.25 -89.5  -89.75 -90.  ] \n",
      "\n"
     ]
    }
   ],
   "source": [
    "print(psi2018.variables['latitude'][0:5], '\\n')\n",
    "print(psi2018.variables['latitude'][-5:], '\\n')"
   ]
  },
  {
   "cell_type": "markdown",
   "id": "de80ceda-32bd-4e8a-94ba-cfc96deea5f1",
   "metadata": {},
   "source": [
    "Longitude, however, is in degrees east with units ranging from 0 (the 180th meridian in the Pacific Ocean) to 359.75, again with a spacing of 0.25 degrees."
   ]
  },
  {
   "cell_type": "code",
   "execution_count": 10,
   "id": "10c6a905-6fc1-47e5-a445-d239d8fa553b",
   "metadata": {},
   "outputs": [
    {
     "name": "stdout",
     "output_type": "stream",
     "text": [
      "<class 'netCDF4._netCDF4.Variable'>\n",
      "float64 longitude(longitude)\n",
      "    _FillValue: nan\n",
      "    long_name: longitude\n",
      "    short_name: lon\n",
      "    units: degrees_east\n",
      "unlimited dimensions: \n",
      "current shape = (1440,)\n",
      "filling on \n",
      "\n",
      "min. longitude: 0.0\n",
      "\n",
      "max. longitude: 359.75\n",
      "\n",
      "spacing of longitude values: 0.25\n",
      "\n"
     ]
    }
   ],
   "source": [
    "print(psi2018.variables['longitude'], '\\n')\n",
    "print(f\"min. longitude: { psi2018.variables['longitude'][:].min() }\\n\")\n",
    "print(f\"max. longitude: {psi2018.variables['longitude'][:].max()}\\n\")\n",
    "print(f\"spacing of longitude values: {psi2018.variables['longitude'][1] - psi2018.variables['longitude'][0]}\\n\")"
   ]
  },
  {
   "cell_type": "markdown",
   "id": "57fbef64-4fad-4b97-a101-993d4ba160a5",
   "metadata": {},
   "source": [
    "#### **Time**\n",
    "\n",
    "All `Variable` objects have useful members/methods like `dtype`, `dimensions`, `shape`, and `get_dims()`."
   ]
  },
  {
   "cell_type": "code",
   "execution_count": 11,
   "id": "93fd506a-27aa-4727-8567-144ad9364e8d",
   "metadata": {},
   "outputs": [
    {
     "name": "stdout",
     "output_type": "stream",
     "text": [
      "<class 'netCDF4._netCDF4.Variable'>\n",
      "int32 time(time)\n",
      "    long_name: time\n",
      "    units: hours since 1900-01-01\n",
      "    calendar: gregorian\n",
      "unlimited dimensions: \n",
      "current shape = (24,)\n",
      "filling on, default _FillValue of -2147483647 used \n",
      "\n",
      "int32 \n",
      "\n",
      "('time',) \n",
      "\n",
      "(24,) \n",
      "\n",
      "(<class 'netCDF4._netCDF4.Dimension'>: name = 'time', size = 24,) \n",
      "\n"
     ]
    }
   ],
   "source": [
    "print(psi2018.variables['time'], '\\n')\n",
    "print(psi2018.variables['time'].dtype, '\\n')\n",
    "print(psi2018.variables['time'].dimensions, '\\n')\n",
    "print(psi2018.variables['time'].shape, '\\n')\n",
    "print(psi2018.variables['time'].get_dims(), '\\n')"
   ]
  },
  {
   "cell_type": "markdown",
   "id": "a9ae2874-1d1d-4dec-8185-0a90be5f3ba7",
   "metadata": {},
   "source": [
    "#### **Level**\n",
    "\n",
    "The `'level'` variable contains pressures at different vertical positions, in hectopascals = millibars. It can serve as a rough [proxy](https://www.weather.gov/source/zhu/ZHU_Training_Page/Miscellaneous/chart_comparison/chart_comparison.htm#COMPARISON) for height above sea level."
   ]
  },
  {
   "cell_type": "code",
   "execution_count": 12,
   "id": "0141a35f-4e2e-4115-a9aa-7c044a3e8dbe",
   "metadata": {},
   "outputs": [
    {
     "name": "stdout",
     "output_type": "stream",
     "text": [
      "<class 'netCDF4._netCDF4.Variable'>\n",
      "float64 level(level)\n",
      "    _FillValue: nan\n",
      "    long_name: pressure level\n",
      "    short_name: plev\n",
      "    units: hPa\n",
      "    alternate_units: millibar\n",
      "unlimited dimensions: \n",
      "current shape = (32,)\n",
      "filling on \n",
      "\n",
      "[  10.   20.   30.   50.   70.  100.  125.  150.  175.  200.  225.  250.\n",
      "  300.  350.  400.  450.  500.  550.  600.  650.  700.  750.  775.  800.\n",
      "  825.  850.  875.  900.  925.  950.  975. 1000.] \n",
      "\n"
     ]
    }
   ],
   "source": [
    "print(psi2018.variables['level'], '\\n')\n",
    "print(psi2018.variables['level'][0:], '\\n')"
   ]
  },
  {
   "cell_type": "code",
   "execution_count": 13,
   "id": "857e5530-7fe0-4d5a-8e56-ca9ed96553d0",
   "metadata": {},
   "outputs": [
    {
     "name": "stdout",
     "output_type": "stream",
     "text": [
      "['_FillValue', '__array__', '__class__', '__delattr__', '__delitem__', '__dir__', '__doc__', '__eq__', '__format__', '__ge__', '__getattr__', '__getattribute__', '__getitem__', '__gt__', '__hash__', '__init__', '__init_subclass__', '__le__', '__len__', '__lt__', '__ne__', '__new__', '__orthogonal_indexing__', '__reduce__', '__reduce_ex__', '__repr__', '__setattr__', '__setitem__', '__sizeof__', '__str__', '__subclasshook__', '__unicode__', '_assign_vlen', '_check_safecast', '_cmptype', '_enumtype', '_get', '_getdims', '_getname', '_grp', '_grpid', '_has_lsd', '_iscompound', '_isenum', '_isprimitive', '_isvlen', '_name', '_ncstring_attrs__', '_nunlimdim', '_pack', '_put', '_toma', '_use_get_vars', '_varid', '_vltype', 'always_mask', 'assignValue', 'chartostring', 'chunking', 'datatype', 'delncattr', 'dimensions', 'dtype', 'endian', 'filters', 'getValue', 'get_dims', 'get_var_chunk_cache', 'getncattr', 'group', 'long_name', 'mask', 'name', 'ncattrs', 'ndim', 'qualifier', 'renameAttribute', 'scale', 'set_always_mask', 'set_auto_chartostring', 'set_auto_mask', 'set_auto_maskandscale', 'set_auto_scale', 'set_collective', 'set_ncstring_attrs', 'set_var_chunk_cache', 'setncattr', 'setncattr_string', 'setncatts', 'shape', 'short_name', 'size', 'units', 'use_nc_get_vars'] \n",
      "\n"
     ]
    }
   ],
   "source": [
    "print(dir(psi2018.variables['latitude']), '\\n')"
   ]
  },
  {
   "cell_type": "markdown",
   "id": "1e2fee8e-3a27-4036-bdc0-180729d91f7e",
   "metadata": {},
   "source": [
    "#### **Streamfunction** [\\[1\\]](https://glossary.ametsoc.org/wiki/Streamfunction), [\\[2\\]](https://en.wikipedia.org/wiki/Stream_function)\n",
    "\n",
    "The `'streamfunction'` variable holds the actual data on the $24 \\times 32 \\times 721 \\times 1440$ grid. \n",
    "\n",
    "Specifically, it represents an atmosphere horizontal streamfunction in units of $m^2 / s$, which has a corresponding [\"standard name\"](http://vocab.nerc.ac.uk/standard_name/) in this type of data.\n",
    "\n",
    "\"'Horizontal' indicates that the streamfunction applies to a horizontal velocity field on a particular vertical level.\" [\\[src\\]](http://vocab.nerc.ac.uk/standard_name/atmosphere_horizontal_streamfunction/). "
   ]
  },
  {
   "cell_type": "code",
   "execution_count": 14,
   "id": "28c3cb61-760b-4f1d-a39e-56f6e53cbd93",
   "metadata": {},
   "outputs": [
    {
     "name": "stdout",
     "output_type": "stream",
     "text": [
      "<class 'netCDF4._netCDF4.Variable'>\n",
      "float32 streamfunction(time, level, latitude, longitude)\n",
      "    _FillValue: nan\n",
      "    units: m**2 s**-1\n",
      "    standard_name: atmosphere_horizontal_streamfunction\n",
      "    long_name: streamfunction\n",
      "unlimited dimensions: \n",
      "current shape = (24, 32, 721, 1440)\n",
      "filling on \n",
      "\n",
      "int32 \n",
      "\n"
     ]
    }
   ],
   "source": [
    "print(psi2018.variables['streamfunction'], '\\n')\n",
    "print(psi2018.variables['time'].dtype, '\\n')"
   ]
  },
  {
   "cell_type": "markdown",
   "id": "7e0f3531-68f7-46ac-9d03-f238240fea69",
   "metadata": {},
   "source": [
    "Here is the value of the streamfunction at midnight for a mid-atmosphere level: "
   ]
  },
  {
   "cell_type": "code",
   "execution_count": 15,
   "id": "878ecfb4-6b6d-4cfa-895c-a7212c905149",
   "metadata": {},
   "outputs": [
    {
     "name": "stdout",
     "output_type": "stream",
     "text": [
      "[[-75026744. -75026744. -75026744. ... -75026744. -75026744. -75026744.]\n",
      " [-74999140. -74999470. -74999800. ... -74998150. -74998480. -74998820.]\n",
      " [-74959624. -74960390. -74961170. ... -74957310. -74958070. -74958850.]\n",
      " ...\n",
      " [ 63469830.  63467260.  63464708. ...  63477584.  63474980.  63472400.]\n",
      " [ 63763104.  63762096.  63761084. ...  63766180.  63765150.  63764132.]\n",
      " [ 63963560.  63963560.  63963560. ...  63963560.  63963560.  63963560.]] \n",
      "\n"
     ]
    }
   ],
   "source": [
    "print(psi2018.variables['streamfunction'][0, 16, :, :], '\\n')"
   ]
  },
  {
   "cell_type": "code",
   "execution_count": 16,
   "id": "5dd983f2-f1d1-4e42-b387-b23386555754",
   "metadata": {},
   "outputs": [
    {
     "data": {
      "image/png": "[encoded data removed]",
      "text/plain": [
       "<Figure size 432x288 with 1 Axes>"
      ]
     },
     "metadata": {
      "needs_background": "light"
     },
     "output_type": "display_data"
    }
   ],
   "source": [
    "from matplotlib import pyplot as plt\n",
    "plt.hist(psi2018.variables['streamfunction'][0, 16, :, :].flatten())\n",
    "plt.show()"
   ]
  },
  {
   "cell_type": "markdown",
   "id": "3317d55d-72ad-475d-95ae-c3d403e965b7",
   "metadata": {},
   "source": [
    "#### **Total precipitation**\n",
    "\n",
    "Another variable calculated from reanalysis data is the total precipitation, also known as integrated water vapor transport (IVT)."
   ]
  },
  {
   "cell_type": "code",
   "execution_count": 17,
   "id": "c66f804a-70c4-4c59-92dc-092b15511716",
   "metadata": {},
   "outputs": [],
   "source": [
    "tpfname = '/global/cfs/projectdirs/m3522/cmip6/ERA5/e5.generated_tp/ERA5_IVT_tp_reanalysis_2012.nc'  \n",
    "tp2012 = nc.Dataset(tpfname, 'r', format='NETCDF4')"
   ]
  },
  {
   "cell_type": "code",
   "execution_count": 18,
   "id": "4072a263-2b8b-4a88-8412-8b0be7cc395d",
   "metadata": {},
   "outputs": [
    {
     "name": "stdout",
     "output_type": "stream",
     "text": [
      "<class 'netCDF4._netCDF4.Dataset'>\n",
      "root group (NETCDF3_64BIT_OFFSET data model, file format NETCDF3):\n",
      "    Conventions: CF-1.6\n",
      "    history: 2019-08-28 17:33:35 GMT by grib_to_netcdf-2.10.0: /opt/ecmwf/eccodes/bin/grib_to_netcdf -o /cache/data3/adaptor.mars.internal-1567012417.709491-5583-3-f8cdc368-3bff-4478-9269-ac9dfd0ba5b6.nc /cache/tmp/f8cdc368-3bff-4478-9269-ac9dfd0ba5b6-adaptor.mars.internal-1567012417.7104108-5583-2-tmp.grib\n",
      "    dimensions(sizes): longitude(1440), latitude(721), time(8784)\n",
      "    variables(dimensions): float32 longitude(longitude), float32 latitude(latitude), int32 time(time), int16 tp(time, latitude, longitude)\n",
      "    groups:  \n",
      "\n"
     ]
    }
   ],
   "source": [
    "print(tp2012, '\\n')"
   ]
  },
  {
   "cell_type": "code",
   "execution_count": 19,
   "id": "7df18601-5a00-4ad1-999b-64ff99130560",
   "metadata": {},
   "outputs": [
    {
     "name": "stdout",
     "output_type": "stream",
     "text": [
      "<class 'netCDF4._netCDF4.Variable'>\n",
      "int16 tp(time, latitude, longitude)\n",
      "    scale_factor: 1.2109202976845874e-06\n",
      "    add_offset: 0.03967701447393319\n",
      "    _FillValue: -32767\n",
      "    missing_value: -32767\n",
      "    units: m\n",
      "    long_name: Total precipitation\n",
      "unlimited dimensions: \n",
      "current shape = (8784, 721, 1440)\n",
      "filling on \n",
      "\n",
      "<class 'netCDF4._netCDF4.Variable'>\n",
      "int32 time(time)\n",
      "    units: hours since 1900-01-01 00:00:00.0\n",
      "    long_name: time\n",
      "    calendar: gregorian\n",
      "unlimited dimensions: \n",
      "current shape = (8784,)\n",
      "filling on, default _FillValue of -2147483647 used \n",
      "\n"
     ]
    }
   ],
   "source": [
    "print(tp2012.variables['tp'], '\\n')\n",
    "print(tp2012.variables['time'], '\\n')"
   ]
  },
  {
   "cell_type": "code",
   "execution_count": 20,
   "id": "515a8d69-312a-48f9-9311-85c726b18f19",
   "metadata": {},
   "outputs": [
    {
     "data": {
      "image/png": "[encoded data removed]",
      "text/plain": [
       "<Figure size 432x288 with 1 Axes>"
      ]
     },
     "metadata": {
      "needs_background": "light"
     },
     "output_type": "display_data"
    }
   ],
   "source": [
    "plt.hist(tp2012.variables['tp'][0, :, :].flatten())\n",
    "plt.yscale('log')\n",
    "plt.show()"
   ]
  }
 ],
 "metadata": {
  "kernelspec": {
   "display_name": "Python [conda:climatenet]",
   "language": "python",
   "name": "climatenet"
  },
  "language_info": {
   "codemirror_mode": {
    "name": "ipython",
    "version": 3
   },
   "file_extension": ".py",
   "mimetype": "text/x-python",
   "name": "python",
   "nbconvert_exporter": "python",
   "pygments_lexer": "ipython3",
   "version": "3.8.8"
  }
 },
 "nbformat": 4,
 "nbformat_minor": 5
}
