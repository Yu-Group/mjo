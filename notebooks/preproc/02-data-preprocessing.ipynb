{
 "cells": [
  {
   "cell_type": "code",
   "execution_count": 1,
   "id": "1167df37-472a-4316-aabb-91dd9132cf85",
   "metadata": {},
   "outputs": [],
   "source": [
    "%load_ext autoreload\n",
    "%autoreload 2\n",
    "\n",
    "import glob\n",
    "from mjonet.data import era5\n",
    "\n",
    "save_dir = '/global/cscratch1/sd/jpduncan/mjo/data/debug'"
   ]
  },
  {
   "cell_type": "code",
   "execution_count": 4,
   "id": "b1df06f3-ad79-4018-a0bf-f23ee884494f",
   "metadata": {},
   "outputs": [
    {
     "name": "stdout",
     "output_type": "stream",
     "text": [
      "CPU times: user 43 s, sys: 474 ms, total: 43.5 s\n",
      "Wall time: 1min 20s\n"
     ]
    }
   ],
   "source": [
    "%%time\n",
    "\n",
    "dset = era5.hdf5_to_npz('/global/cscratch1/sd/jpduncan/mjo/data/debug', 'mtnlwrf', 'r', year_or_range=1988, verbose=True)"
   ]
  },
  {
   "cell_type": "code",
   "execution_count": 5,
   "id": "700ff727-32e9-4f39-aa65-d6d227ff92ac",
   "metadata": {},
   "outputs": [
    {
     "name": "stdout",
     "output_type": "stream",
     "text": [
      "<xarray.Dataset>\n",
      "Dimensions:   (time: 1466, lat: 721, lon: 1440, level: 3)\n",
      "Coordinates:\n",
      "  * time      (time) datetime64[ns] 1988-01-01 ... 1989-01-01T06:00:00\n",
      "  * lat       (lat) float64 90.0 89.75 89.5 89.25 ... -89.25 -89.5 -89.75 -90.0\n",
      "  * lon       (lon) float64 0.0 0.25 0.5 0.75 1.0 ... 359.0 359.2 359.5 359.8\n",
      "  * level     (level) float64 200.0 500.0 850.0\n",
      "Data variables:\n",
      "    MTNLWRF   (time, lat, lon) float32 dask.array<chunksize=(2, 721, 1440), meta=np.ndarray>\n",
      "    R         (time, level, lat, lon) float32 dask.array<chunksize=(4, 3, 721, 1440), meta=np.ndarray>\n",
      "    utc_date  (time) float64 dask.array<chunksize=(4,), meta=np.ndarray>\n"
     ]
    }
   ],
   "source": [
    "print(dset)"
   ]
  },
  {
   "cell_type": "code",
   "execution_count": null,
   "id": "648655ee-9013-45ff-ae89-9d97852f63a8",
   "metadata": {},
   "outputs": [],
   "source": []
  }
 ],
 "metadata": {
  "kernelspec": {
   "display_name": "Python [conda:mjonet-preproc]",
   "language": "python",
   "name": "mjonet-preproc"
  },
  "language_info": {
   "codemirror_mode": {
    "name": "ipython",
    "version": 3
   },
   "file_extension": ".py",
   "mimetype": "text/x-python",
   "name": "python",
   "nbconvert_exporter": "python",
   "pygments_lexer": "ipython3",
   "version": "3.9.12"
  }
 },
 "nbformat": 4,
 "nbformat_minor": 5
}
