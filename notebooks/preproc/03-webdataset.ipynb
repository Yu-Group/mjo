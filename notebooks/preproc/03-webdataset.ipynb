{
 "cells": [
  {
   "cell_type": "code",
   "execution_count": 2,
   "id": "11e98cc2-7acc-4173-81b5-8ac92ec4cebe",
   "metadata": {},
   "outputs": [
    {
     "name": "stdout",
     "output_type": "stream",
     "text": [
      "The autoreload extension is already loaded. To reload it, use:\n",
      "  %reload_ext autoreload\n"
     ]
    }
   ],
   "source": [
    "%load_ext autoreload\n",
    "%autoreload 2\n",
    "\n",
    "import os\n",
    "\n",
    "import numpy as np\n",
    "\n",
    "from mjonet import era5\n",
    "from mjonet.era5.loader import _decode_era5\n",
    "\n",
    "import dask.config\n",
    "from dask.distributed import Client, LocalCluster\n",
    "\n",
    "USER = os.environ['USER']\n",
    "\n",
    "if os.environ['NERSC_HOST'] == 'perlmutter':\n",
    "    SCRATCH = f'/pscratch/sd/{USER[0]}/{USER}/'\n",
    "else:\n",
    "    SCRATCH = f'/global/cscratch1/sd/{USER}/'\n",
    "\n",
    "save_dir = os.path.join(SCRATCH, 'data/era5/debug/')\n",
    "tmp_dir = os.path.join(SCRATCH, 'tmp/')"
   ]
  },
  {
   "cell_type": "code",
   "execution_count": 15,
   "id": "4a1fc40e-a864-4899-b8ef-708b7d1848bc",
   "metadata": {
    "scrolled": true,
    "tags": []
   },
   "outputs": [
    {
     "name": "stdout",
     "output_type": "stream",
     "text": [
      "Processing 390 files...\n",
      "Datasets opened and combined. Removing missing times...\n",
      "Missing times removed. Subsampling and regridding...\n",
      "Created tar file era5-None-000000.tar (1/49 : 2%) | time elapsed: 21.95 s\n",
      "Created tar file era5-None-000001.tar (2/49 : 4%) | time elapsed: 23.82 s\n",
      "Created tar file era5-None-000002.tar (3/49 : 6%) | time elapsed: 17.36 s\n",
      "Created tar file era5-None-000003.tar (4/49 : 8%) | time elapsed: 18.00 s\n",
      "Created tar file era5-None-000004.tar (5/49 : 10%) | time elapsed: 17.60 s\n",
      "Created tar file era5-None-000005.tar (6/49 : 12%) | time elapsed: 16.28 s\n",
      "Created tar file era5-None-000006.tar (7/49 : 14%) | time elapsed: 41.51 s\n",
      "Created tar file era5-None-000007.tar (8/49 : 16%) | time elapsed: 17.79 s\n",
      "Created tar file era5-None-000008.tar (9/49 : 18%) | time elapsed: 16.29 s\n",
      "Created tar file era5-None-000009.tar (10/49 : 20%) | time elapsed: 24.83 s\n",
      "Created tar file era5-None-000010.tar (11/49 : 22%) | time elapsed: 18.61 s\n",
      "Created tar file era5-None-000011.tar (12/49 : 24%) | time elapsed: 17.11 s\n",
      "Created tar file era5-None-000012.tar (13/49 : 27%) | time elapsed: 18.95 s\n",
      "Created tar file era5-None-000013.tar (14/49 : 29%) | time elapsed: 18.41 s\n",
      "Created tar file era5-None-000014.tar (15/49 : 31%) | time elapsed: 14.93 s\n",
      "Created tar file era5-None-000015.tar (16/49 : 33%) | time elapsed: 17.19 s\n",
      "Created tar file era5-None-000016.tar (17/49 : 35%) | time elapsed: 14.92 s\n",
      "Created tar file era5-None-000017.tar (18/49 : 37%) | time elapsed: 17.54 s\n",
      "Created tar file era5-None-000018.tar (19/49 : 39%) | time elapsed: 35.00 s\n",
      "Created tar file era5-None-000019.tar (20/49 : 41%) | time elapsed: 17.31 s\n",
      "Created tar file era5-None-000020.tar (21/49 : 43%) | time elapsed: 16.57 s\n",
      "Created tar file era5-None-000021.tar (22/49 : 45%) | time elapsed: 18.17 s\n",
      "Created tar file era5-None-000022.tar (23/49 : 47%) | time elapsed: 16.86 s\n",
      "Created tar file era5-None-000023.tar (24/49 : 49%) | time elapsed: 18.09 s\n",
      "Created tar file era5-None-000024.tar (25/49 : 51%) | time elapsed: 17.09 s\n",
      "Created tar file era5-None-000025.tar (26/49 : 53%) | time elapsed: 17.25 s\n",
      "Created tar file era5-None-000026.tar (27/49 : 55%) | time elapsed: 18.88 s\n",
      "Created tar file era5-None-000027.tar (28/49 : 57%) | time elapsed: 17.00 s\n",
      "Created tar file era5-None-000028.tar (29/49 : 59%) | time elapsed: 19.30 s\n",
      "Created tar file era5-None-000029.tar (30/49 : 61%) | time elapsed: 17.06 s\n",
      "Created tar file era5-None-000030.tar (31/49 : 63%) | time elapsed: 20.50 s\n",
      "Created tar file era5-None-000031.tar (32/49 : 65%) | time elapsed: 17.61 s\n",
      "Created tar file era5-None-000032.tar (33/49 : 67%) | time elapsed: 17.81 s\n",
      "Created tar file era5-None-000033.tar (34/49 : 69%) | time elapsed: 17.37 s\n",
      "Created tar file era5-None-000034.tar (35/49 : 71%) | time elapsed: 26.38 s\n",
      "Created tar file era5-None-000035.tar (36/49 : 73%) | time elapsed: 17.79 s\n",
      "Created tar file era5-None-000036.tar (37/49 : 76%) | time elapsed: 18.42 s\n",
      "Created tar file era5-None-000037.tar (38/49 : 78%) | time elapsed: 17.29 s\n",
      "Created tar file era5-None-000038.tar (39/49 : 80%) | time elapsed: 17.80 s\n",
      "Created tar file era5-None-000039.tar (40/49 : 82%) | time elapsed: 17.95 s\n",
      "Created tar file era5-None-000040.tar (41/49 : 84%) | time elapsed: 17.51 s\n",
      "Created tar file era5-None-000041.tar (42/49 : 86%) | time elapsed: 14.83 s\n",
      "Created tar file era5-None-000042.tar (43/49 : 88%) | time elapsed: 16.56 s\n",
      "Created tar file era5-None-000043.tar (44/49 : 90%) | time elapsed: 17.17 s\n",
      "Created tar file era5-None-000044.tar (45/49 : 92%) | time elapsed: 21.06 s\n",
      "Created tar file era5-None-000045.tar (46/49 : 94%) | time elapsed: 16.25 s\n",
      "Created tar file era5-None-000046.tar (47/49 : 96%) | time elapsed: 20.27 s\n",
      "Created tar file era5-None-000047.tar (48/49 : 98%) | time elapsed: 17.78 s\n",
      "Created tar file era5-None-000048.tar (49/49 : 100%) | time elapsed: 21.00 s\n",
      "CPU times: user 2min 42s, sys: 2min 11s, total: 4min 53s\n",
      "Wall time: 16min 3s\n"
     ]
    }
   ],
   "source": [
    "%%time\n",
    "\n",
    "with dask.config.set({'temporary-directory': tmp_dir}), LocalCluster(n_workers=8) as cluster, Client(cluster) as client:\n",
    "    results = era5.create_wds('mtnlwrf', 'r',\n",
    "                              save_dir=save_dir,\n",
    "                              samples_per_tar=30, # about 1 GB per tar\n",
    "                              plevels={'r': [200, 500]},\n",
    "                              year_or_range=1988,\n",
    "                              parallel=True,\n",
    "                              verbose=True)"
   ]
  }
 ],
 "metadata": {
  "kernelspec": {
   "display_name": "Python [conda:mjonet-preproc]",
   "language": "python",
   "name": "mjonet-preproc"
  },
  "language_info": {
   "codemirror_mode": {
    "name": "ipython",
    "version": 3
   },
   "file_extension": ".py",
   "mimetype": "text/x-python",
   "name": "python",
   "nbconvert_exporter": "python",
   "pygments_lexer": "ipython3",
   "version": "3.9.12"
  }
 },
 "nbformat": 4,
 "nbformat_minor": 5
}
